{
 "cells": [
  {
   "cell_type": "code",
   "execution_count": 9,
   "metadata": {},
   "outputs": [],
   "source": [
    "from dputils.scrape import Scraper, Tag"
   ]
  },
  {
   "cell_type": "code",
   "execution_count": 18,
   "metadata": {},
   "outputs": [
    {
     "data": {
      "text/plain": [
       "<title>Online Shopping India Mobile, Cameras, Lifestyle &amp; more Online @ Flipkart.com</title>"
      ]
     },
     "execution_count": 18,
     "metadata": {},
     "output_type": "execute_result"
    }
   ],
   "source": [
    "query = 'laptops'\n",
    "page = 1\n",
    "url = f'https://www.flipkart.com/search?q={query}&page={page}'\n",
    "scraper = Scraper(url)\n",
    "scraper.soup.title"
   ]
  },
  {
   "cell_type": "code",
   "execution_count": 11,
   "metadata": {},
   "outputs": [
    {
     "name": "stdout",
     "output_type": "stream",
     "text": [
      "26\n"
     ]
    }
   ],
   "source": [
    "target = Tag(cls='_1YokD2 _3Mn1Gg')\n",
    "items = Tag(cls='_1AtVbE col-12-12')\n",
    "# product items\n",
    "title = Tag(cls='_4rR01T')\n",
    "price = Tag(cls='_30jeq3 _1_WHN1')\n",
    "rating = Tag('span', cls='_2_R_DZ')\n",
    "out = scraper.get_all(target, items, name=title, price=price, rr=rating)\n",
    "print(len(out))"
   ]
  },
  {
   "cell_type": "code",
   "execution_count": 12,
   "metadata": {},
   "outputs": [
    {
     "data": {
      "text/plain": [
       "[{'name': 'POCO C31 (Royal Blue, 64 GB)',\n",
       "  'price': '₹9,499',\n",
       "  'rr': '2,12,305 Ratings\\xa0&\\xa013,424 Reviews'},\n",
       " {'name': 'POCO C31 (Royal Blue, 32 GB)',\n",
       "  'price': '₹8,499',\n",
       "  'rr': '1,39,787 Ratings\\xa0&\\xa08,817 Reviews'},\n",
       " {'name': 'POCO C31 (Shadow Gray, 64 GB)',\n",
       "  'price': '₹9,499',\n",
       "  'rr': '2,12,305 Ratings\\xa0&\\xa013,424 Reviews'},\n",
       " {'name': 'POCO C55 (Cool Blue, 64 GB)',\n",
       "  'price': '₹8,499',\n",
       "  'rr': '5,096 Ratings\\xa0&\\xa0216 Reviews'},\n",
       " {'name': 'POCO M4 Pro (Cool Blue, 128 GB)',\n",
       "  'price': '₹16,499',\n",
       "  'rr': '1,59,987 Ratings\\xa0&\\xa014,165 Reviews'},\n",
       " {'name': 'POCO C55 (Cool Blue, 128 GB)',\n",
       "  'price': '₹9,999',\n",
       "  'rr': '3,149 Ratings\\xa0&\\xa0134 Reviews'},\n",
       " {'name': 'realme C30 (Denim Black, 32 GB)',\n",
       "  'price': '₹6,999',\n",
       "  'rr': '44,081 Ratings\\xa0&\\xa02,770 Reviews'},\n",
       " {'name': 'realme C30 (Denim Black, 32 GB)',\n",
       "  'price': '₹5,999',\n",
       "  'rr': '94,786 Ratings\\xa0&\\xa05,000 Reviews'},\n",
       " {'name': 'realme C30 (Bamboo Green, 32 GB)',\n",
       "  'price': '₹5,999',\n",
       "  'rr': '94,786 Ratings\\xa0&\\xa05,000 Reviews'},\n",
       " {'name': 'realme C30 (Lake Blue, 32 GB)',\n",
       "  'price': '₹5,999',\n",
       "  'rr': '94,786 Ratings\\xa0&\\xa05,000 Reviews'},\n",
       " {'name': 'POCO C31 (Shadow Gray, 32 GB)',\n",
       "  'price': '₹8,499',\n",
       "  'rr': '1,39,787 Ratings\\xa0&\\xa08,817 Reviews'},\n",
       " {'name': 'MOTOROLA e13 (Aurora Green, 64 GB)',\n",
       "  'price': '₹7,749',\n",
       "  'rr': '8,029 Ratings\\xa0&\\xa0706 Reviews'},\n",
       " {'name': 'POCO C55 (Power Black, 64 GB)',\n",
       "  'price': '₹8,499',\n",
       "  'rr': '5,096 Ratings\\xa0&\\xa0216 Reviews'},\n",
       " {'name': 'realme C30 (Bamboo Green, 32 GB)',\n",
       "  'price': '₹6,999',\n",
       "  'rr': '44,081 Ratings\\xa0&\\xa02,770 Reviews'},\n",
       " {'name': 'MOTOROLA G62 5G (Frosted Blue, 128 GB)',\n",
       "  'price': '₹15,499',\n",
       "  'rr': '22,903 Ratings\\xa0&\\xa02,135 Reviews'},\n",
       " {'name': 'realme C30 (Lake Blue, 32 GB)',\n",
       "  'price': '₹6,999',\n",
       "  'rr': '44,081 Ratings\\xa0&\\xa02,770 Reviews'},\n",
       " {'name': 'POCO M4 5G (Power Black, 64 GB)',\n",
       "  'price': '₹12,999',\n",
       "  'rr': '62,247 Ratings\\xa0&\\xa04,525 Reviews'},\n",
       " {'name': 'Infinix SMART 7 (Azure Blue, 64 GB)',\n",
       "  'price': '₹7,499',\n",
       "  'rr': '7,272 Ratings\\xa0&\\xa0364 Reviews'},\n",
       " {'name': 'Infinix SMART 7 (Emerald Green, 64 GB)',\n",
       "  'price': '₹7,499',\n",
       "  'rr': '7,272 Ratings\\xa0&\\xa0364 Reviews'},\n",
       " {'name': 'Infinix SMART 7 (Night Black, 64 GB)',\n",
       "  'price': '₹7,499',\n",
       "  'rr': '7,272 Ratings\\xa0&\\xa0364 Reviews'},\n",
       " {'name': 'SAMSUNG Galaxy F14 5G (B.A.E. Purple, 128 GB)',\n",
       "  'price': '₹15,990',\n",
       "  'rr': None},\n",
       " {'name': 'Nokia 105 SS',\n",
       "  'price': '₹1,299',\n",
       "  'rr': '34,824 Ratings\\xa0&\\xa02,385 Reviews'},\n",
       " {'name': 'SAMSUNG Galaxy F14 5G (OMG Black, 128 GB)',\n",
       "  'price': '₹15,990',\n",
       "  'rr': None},\n",
       " {'name': 'MOTOROLA e40 (Carbon Gray, 64 GB)',\n",
       "  'price': '₹8,499',\n",
       "  'rr': '76,165 Ratings\\xa0&\\xa07,043 Reviews'},\n",
       " {'name': None, 'price': None, 'rr': None},\n",
       " {'name': None, 'price': None, 'rr': None}]"
      ]
     },
     "execution_count": 12,
     "metadata": {},
     "output_type": "execute_result"
    }
   ],
   "source": [
    "out"
   ]
  }
 ],
 "metadata": {
  "kernelspec": {
   "display_name": "Python 3",
   "language": "python",
   "name": "python3"
  },
  "language_info": {
   "codemirror_mode": {
    "name": "ipython",
    "version": 3
   },
   "file_extension": ".py",
   "mimetype": "text/x-python",
   "name": "python",
   "nbconvert_exporter": "python",
   "pygments_lexer": "ipython3",
   "version": "3.10.9"
  },
  "orig_nbformat": 4
 },
 "nbformat": 4,
 "nbformat_minor": 2
}
