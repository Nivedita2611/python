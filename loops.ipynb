{
 "cells": [
  {
   "cell_type": "code",
   "execution_count": 1,
   "metadata": {},
   "outputs": [
    {
     "name": "stdout",
     "output_type": "stream",
     "text": [
      "12\n",
      "52\n",
      "13\n",
      "24\n",
      "45\n"
     ]
    }
   ],
   "source": [
    "x = [12, 52, 13, 24, 45]\n",
    "for i in x:\n",
    "    print(i)"
   ]
  },
  {
   "cell_type": "code",
   "execution_count": 1,
   "metadata": {},
   "outputs": [
    {
     "name": "stdout",
     "output_type": "stream",
     "text": [
      "have you seen tiger?\n",
      "have you seen elephant?\n",
      "have you seen leopard?\n"
     ]
    }
   ],
   "source": [
    "animals = ['tiger','elephant','leopard']\n",
    "for animal in animals:\n",
    "    print(f'have you seen {animal}?')"
   ]
  },
  {
   "cell_type": "code",
   "execution_count": 2,
   "metadata": {},
   "outputs": [
    {
     "name": "stdout",
     "output_type": "stream",
     "text": [
      "jumangi    | 7\n",
      "resident evil | 13\n",
      "thor       | 4\n",
      "iron man   | 8\n",
      "mirzapur   | 8\n",
      "captian america | 15\n",
      "hulk       | 4\n",
      "RRR        | 3\n",
      "harry potter | 12\n",
      "kgf        | 3\n"
     ]
    }
   ],
   "source": [
    "movies = ['jumangi','resident evil','thor','iron man','mirzapur','captian america','hulk','RRR','harry potter','kgf']\n",
    "\n",
    "for movie in movies:\n",
    "    print(f'{movie:10} | {len(movie)}') "
   ]
  },
  {
   "cell_type": "code",
   "execution_count": 3,
   "metadata": {},
   "outputs": [
    {
     "name": "stdout",
     "output_type": "stream",
     "text": [
      "red\n",
      "green\n",
      "yellow\n",
      "orange\n",
      "grey\n",
      "silver\n",
      "white\n",
      "voilet\n"
     ]
    }
   ],
   "source": [
    "colors = ['red','green','yellow','blue','orange','grey','black','silver','white','voilet','brown']\n",
    "\n",
    "for name in colors:\n",
    "    if 'b' not in name:\n",
    "        print(name)"
   ]
  },
  {
   "cell_type": "code",
   "execution_count": 1,
   "metadata": {},
   "outputs": [
    {
     "name": "stdout",
     "output_type": "stream",
     "text": [
      "0 1 2 3 4 5 6 7 8 9 "
     ]
    }
   ],
   "source": [
    "for i in range(10):\n",
    "    print(i, end=' ')"
   ]
  },
  {
   "cell_type": "code",
   "execution_count": 5,
   "metadata": {},
   "outputs": [
    {
     "name": "stdout",
     "output_type": "stream",
     "text": [
      "15 16 17 18 19 20 21 22 23 24 25 26 27 28 29 30 "
     ]
    }
   ],
   "source": [
    "for i in range(15, 31):\n",
    "    print(i, end= ' ')"
   ]
  },
  {
   "cell_type": "code",
   "execution_count": 6,
   "metadata": {},
   "outputs": [
    {
     "name": "stdout",
     "output_type": "stream",
     "text": [
      "0 5 10 15 20 25 30 35 40 45 50 55 60 65 70 75 80 85 90 95 100 "
     ]
    }
   ],
   "source": [
    "# 0 - 100 with a increment of 5\n",
    "for i in range(0, 101, 5):\n",
    "    print(i, end=' ')"
   ]
  },
  {
   "cell_type": "code",
   "execution_count": 7,
   "metadata": {},
   "outputs": [
    {
     "name": "stdout",
     "output_type": "stream",
     "text": [
      "10 9 8 7 6 5 4 3 2 1 "
     ]
    }
   ],
   "source": [
    "#reverse loop\n",
    "for i in range(10, 0, -1):\n",
    "    print(i, end=' ')"
   ]
  },
  {
   "cell_type": "code",
   "execution_count": 8,
   "metadata": {},
   "outputs": [
    {
     "name": "stdout",
     "output_type": "stream",
     "text": [
      "(0, 'jumangi')\n",
      "(1, 'resident evil')\n",
      "(2, 'thor')\n",
      "(3, 'iron man')\n",
      "(4, 'mirzapur')\n",
      "(5, 'captian america')\n",
      "(6, 'hulk')\n",
      "(7, 'RRR')\n",
      "(8, 'harry potter')\n",
      "(9, 'kgf')\n"
     ]
    }
   ],
   "source": [
    "#emuneration\n",
    "for movie in enumerate(movies):\n",
    "    print(movie)"
   ]
  },
  {
   "cell_type": "code",
   "execution_count": 9,
   "metadata": {},
   "outputs": [
    {
     "name": "stdout",
     "output_type": "stream",
     "text": [
      "0 jumangi\n",
      "1 resident evil\n",
      "2 thor\n",
      "3 iron man\n",
      "4 mirzapur\n",
      "5 captian america\n",
      "6 hulk\n",
      "7 RRR\n",
      "8 harry potter\n",
      "9 kgf\n"
     ]
    }
   ],
   "source": [
    "for i, movie in enumerate(movies):\n",
    "    print(i, movie)"
   ]
  },
  {
   "cell_type": "code",
   "execution_count": 10,
   "metadata": {},
   "outputs": [],
   "source": [
    "x = [2,56,67,12,56]\n",
    "y = [2,5,1,6,5]\n",
    "z = [2,5,61,46,22]"
   ]
  },
  {
   "cell_type": "code",
   "execution_count": 11,
   "metadata": {},
   "outputs": [
    {
     "name": "stdout",
     "output_type": "stream",
     "text": [
      "0 6 1 66 2 129 3 64 4 83 "
     ]
    }
   ],
   "source": [
    "#non pythonic\n",
    "for i in range (len(x)):\n",
    "    print(i, x[i]+ y[i]+ z[i], end=' ')"
   ]
  },
  {
   "cell_type": "code",
   "execution_count": 12,
   "metadata": {},
   "outputs": [
    {
     "name": "stdout",
     "output_type": "stream",
     "text": [
      "6 66 129 64 83 "
     ]
    }
   ],
   "source": [
    "for i,j,k in zip(x,y,z):\n",
    "     print(i + j + k, end=' ')"
   ]
  },
  {
   "cell_type": "code",
   "execution_count": 13,
   "metadata": {},
   "outputs": [
    {
     "name": "stdout",
     "output_type": "stream",
     "text": [
      "total=348\n"
     ]
    }
   ],
   "source": [
    "total = 0\n",
    "for i, j, k in zip(x,y,z):\n",
    "    total += i+j+k\n",
    "print(f'{total=}')    "
   ]
  },
  {
   "cell_type": "code",
   "execution_count": 14,
   "metadata": {},
   "outputs": [
    {
     "name": "stdout",
     "output_type": "stream",
     "text": [
      "1\n",
      "2\n",
      "5\n",
      "6\n",
      "2\n",
      "5\n",
      "6\n",
      "2\n",
      "None\n",
      "2\n",
      "5\n",
      "1\n",
      "5\n"
     ]
    }
   ],
   "source": [
    "data = [1,2,0,5,6,2,0,5,6,2,None,0,0,0,2,5,1,5]\n",
    "for i in data:\n",
    "    if i == 0:\n",
    "        continue\n",
    "    print(i)"
   ]
  },
  {
   "cell_type": "code",
   "execution_count": 15,
   "metadata": {},
   "outputs": [
    {
     "name": "stdout",
     "output_type": "stream",
     "text": [
      "1\n",
      "2\n",
      "0\n",
      "5\n",
      "6\n",
      "2\n",
      "0\n",
      "5\n",
      "6\n",
      "2\n",
      "the end\n"
     ]
    }
   ],
   "source": [
    "for i in data:\n",
    "    if i == None:\n",
    "       break\n",
    "    print(i)\n",
    "print('the end')"
   ]
  },
  {
   "cell_type": "code",
   "execution_count": 16,
   "metadata": {},
   "outputs": [
    {
     "name": "stdout",
     "output_type": "stream",
     "text": [
      "1\n",
      "2\n",
      "5\n",
      "6\n",
      "2\n",
      "5\n",
      "6\n",
      "2\n"
     ]
    }
   ],
   "source": [
    "for i in data:\n",
    "    if i == 0: continue\n",
    "    if i == None: break\n",
    "    print(i)"
   ]
  },
  {
   "cell_type": "code",
   "execution_count": 17,
   "metadata": {},
   "outputs": [
    {
     "name": "stdout",
     "output_type": "stream",
     "text": [
      "4\n",
      "123.4\n"
     ]
    }
   ],
   "source": [
    "i = 1234\n",
    "print (i % 10)\n",
    "print (i / 10)"
   ]
  },
  {
   "cell_type": "code",
   "execution_count": 22,
   "metadata": {},
   "outputs": [
    {
     "name": "stdout",
     "output_type": "stream",
     "text": [
      "1234 5\n",
      "123 9\n",
      "12 12\n",
      "1 14\n",
      "0 15\n"
     ]
    }
   ],
   "source": [
    "number = int(input(\"enter a number:\"))\n",
    "total = 0\n",
    "while number > 0:\n",
    "    total += number % 10\n",
    "    number = number // 10\n",
    "    print(number, total)"
   ]
  },
  {
   "cell_type": "code",
   "execution_count": 2,
   "metadata": {},
   "outputs": [
    {
     "name": "stdout",
     "output_type": "stream",
     "text": [
      "wrong password❌\n",
      "wrong password❌\n"
     ]
    }
   ],
   "source": [
    "retries = 0\n",
    "while retries <=3:\n",
    "    pin = input(\"enter password:\")\n",
    "    if pin == '1234':\n",
    "        print(\"welcome master✅\")\n",
    "        break\n",
    "    else:\n",
    "        print(\"wrong password❌\")\n",
    "        retries += 1 "
   ]
  }
 ],
 "metadata": {
  "kernelspec": {
   "display_name": "Python 3",
   "language": "python",
   "name": "python3"
  },
  "language_info": {
   "codemirror_mode": {
    "name": "ipython",
    "version": 3
   },
   "file_extension": ".py",
   "mimetype": "text/x-python",
   "name": "python",
   "nbconvert_exporter": "python",
   "pygments_lexer": "ipython3",
   "version": "3.10.9"
  },
  "orig_nbformat": 4,
  "vscode": {
   "interpreter": {
    "hash": "eef730da45ae669ef9c7bde662448d80ffe2d1c897f5b9d311d71406cc7fa474"
   }
  }
 },
 "nbformat": 4,
 "nbformat_minor": 2
}
