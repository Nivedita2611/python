{
 "cells": [
  {
   "attachments": {},
   "cell_type": "markdown",
   "metadata": {},
   "source": [
    "basic data structure\n",
    "\n",
    "1.list\n",
    "2.tuple\n",
    "3.set\n",
    "4.dictionary\n",
    "\n",
    "dict properties\n",
    "-ordered(sequence)\n",
    "-unindexed\n",
    "-mutable(changable)\n",
    "-allows duplicate values,but keys are unique\n",
    "-key:value pairs\n",
    "-keys are immutable(cannot be changed)\n",
    "-value can be heterogeneous(different types of data)\n",
    "-denoted by {}\n",
    "-an list of paired value can be converted to dict using dict() function\n",
    "\n",
    "\n"
   ]
  },
  {
   "cell_type": "code",
   "execution_count": 25,
   "metadata": {},
   "outputs": [
    {
     "data": {
      "text/plain": [
       "{'name': 'alfred',\n",
       " 'age': 59,\n",
       " 'job': 'bulter',\n",
       " 'city': 'gotham',\n",
       " 'history': 'ex-military'}"
      ]
     },
     "execution_count": 25,
     "metadata": {},
     "output_type": "execute_result"
    }
   ],
   "source": [
    "# ['Alfred', 59, 'bulter', 'gotham','ex-military']\n",
    "\n",
    "{'name':'alfred','age':59,\n",
    "'job':'bulter','city':'gotham',\n",
    "'history':'ex-military'}"
   ]
  },
  {
   "cell_type": "code",
   "execution_count": 5,
   "metadata": {},
   "outputs": [],
   "source": [
    "series1 = {\n",
    "    'title':'person of interset',\n",
    "    'total seasons':5,\n",
    "    'genre':'action/thriller',\n",
    "    'available on':'amazon prime',\n",
    "    'summary':'a billonaire software genius hires a team of ex- military operatives'\n",
    "}"
   ]
  },
  {
   "cell_type": "code",
   "execution_count": 7,
   "metadata": {},
   "outputs": [],
   "source": [
    "series2 = {}"
   ]
  },
  {
   "cell_type": "code",
   "execution_count": 8,
   "metadata": {},
   "outputs": [],
   "source": [
    "series2['title'] = 'flash'"
   ]
  },
  {
   "cell_type": "code",
   "execution_count": 9,
   "metadata": {},
   "outputs": [
    {
     "data": {
      "text/plain": [
       "{'title': 'flash'}"
      ]
     },
     "execution_count": 9,
     "metadata": {},
     "output_type": "execute_result"
    }
   ],
   "source": [
    "series2"
   ]
  },
  {
   "cell_type": "code",
   "execution_count": 10,
   "metadata": {},
   "outputs": [],
   "source": [
    "series2['title'] = 'arrow'"
   ]
  },
  {
   "cell_type": "code",
   "execution_count": 12,
   "metadata": {},
   "outputs": [
    {
     "data": {
      "text/plain": [
       "'arrow'"
      ]
     },
     "execution_count": 12,
     "metadata": {},
     "output_type": "execute_result"
    }
   ],
   "source": [
    "series2['title']"
   ]
  },
  {
   "cell_type": "code",
   "execution_count": 20,
   "metadata": {},
   "outputs": [],
   "source": [
    "series2['seasons']=8\n",
    "series2['genre'] = 'action/adventure'\n",
    "series2['studio']='dc comics'"
   ]
  },
  {
   "cell_type": "code",
   "execution_count": 13,
   "metadata": {},
   "outputs": [
    {
     "data": {
      "text/plain": [
       "{'title': 'arrow'}"
      ]
     },
     "execution_count": 13,
     "metadata": {},
     "output_type": "execute_result"
    }
   ],
   "source": [
    "series2"
   ]
  },
  {
   "attachments": {},
   "cell_type": "markdown",
   "metadata": {},
   "source": [
    "nested dictionary"
   ]
  },
  {
   "cell_type": "code",
   "execution_count": 14,
   "metadata": {},
   "outputs": [],
   "source": [
    "books = {\n",
    "    'book 1' : {\n",
    "         'title':'the alloy of law',\n",
    "         'author':'brandon sanderson',\n",
    "         'summary':'western meets steampunk in this new mistborn series'     \n",
    "    },\n",
    "    'book 2' : {\n",
    "         'tilt': 'the band of mourning',\n",
    "         'author':'brandon sandarson',\n",
    "         'summary':'the third book in the mistborn series era2'\n",
    "    },\n",
    "    'book 3':{\n",
    "         'title':'the lost metal',\n",
    "         'author':'brandon sandarson',\n",
    "         'summary':'the fourth book in the mistborn seies era2'\n",
    "    }    \n",
    "\n",
    "    }\n",
    "    \n",
    "    \n"
   ]
  },
  {
   "cell_type": "code",
   "execution_count": 15,
   "metadata": {},
   "outputs": [
    {
     "data": {
      "text/plain": [
       "{'title': 'the alloy of law',\n",
       " 'author': 'brandon sanderson',\n",
       " 'summary': 'western meets steampunk in this new mistborn series'}"
      ]
     },
     "execution_count": 15,
     "metadata": {},
     "output_type": "execute_result"
    }
   ],
   "source": [
    "books['book 1']"
   ]
  },
  {
   "cell_type": "code",
   "execution_count": 16,
   "metadata": {},
   "outputs": [
    {
     "data": {
      "text/plain": [
       "{'tilt': 'the band of mourning',\n",
       " 'author': 'brandon sandarson',\n",
       " 'summary': 'the third book in the mistborn series era2'}"
      ]
     },
     "execution_count": 16,
     "metadata": {},
     "output_type": "execute_result"
    }
   ],
   "source": [
    "books['book 2']"
   ]
  },
  {
   "cell_type": "code",
   "execution_count": 17,
   "metadata": {},
   "outputs": [
    {
     "data": {
      "text/plain": [
       "'the lost metal'"
      ]
     },
     "execution_count": 17,
     "metadata": {},
     "output_type": "execute_result"
    }
   ],
   "source": [
    "books['book 3']['title']"
   ]
  },
  {
   "cell_type": "code",
   "execution_count": 18,
   "metadata": {},
   "outputs": [
    {
     "name": "stdout",
     "output_type": "stream",
     "text": [
      "title arrow\n"
     ]
    }
   ],
   "source": [
    "for i in series2:\n",
    "    print (i,series2[i])"
   ]
  },
  {
   "cell_type": "code",
   "execution_count": 19,
   "metadata": {},
   "outputs": [
    {
     "name": "stdout",
     "output_type": "stream",
     "text": [
      "title arrow\n"
     ]
    }
   ],
   "source": [
    "for k,v in series2.items():\n",
    "    print(k,v)"
   ]
  },
  {
   "cell_type": "code",
   "execution_count": 28,
   "metadata": {},
   "outputs": [
    {
     "name": "stdout",
     "output_type": "stream",
     "text": [
      "book 1 title the alloy of law\n",
      "book 1 author brandon sanderson\n",
      "book 1 summary western meets steampunk in this new mistborn series\n",
      "book 2 tilt the band of mourning\n",
      "book 2 author brandon sandarson\n",
      "book 2 summary the third book in the mistborn series era2\n",
      "book 3 title the lost metal\n",
      "book 3 author brandon sandarson\n",
      "book 3 summary the fourth book in the mistborn seies era2\n"
     ]
    }
   ],
   "source": [
    "for k,v in books.items():\n",
    "    for k1,v1 in v.items():\n",
    "        print (k,k1,v1)\n"
   ]
  },
  {
   "cell_type": "code",
   "execution_count": 29,
   "metadata": {},
   "outputs": [
    {
     "data": {
      "text/plain": [
       "['title', 'total seasons', 'genre', 'available on', 'summary']"
      ]
     },
     "execution_count": 29,
     "metadata": {},
     "output_type": "execute_result"
    }
   ],
   "source": [
    "list(series1.keys())"
   ]
  },
  {
   "cell_type": "code",
   "execution_count": 20,
   "metadata": {},
   "outputs": [
    {
     "data": {
      "text/plain": [
       "['person of interset',\n",
       " 5,\n",
       " 'action/thriller',\n",
       " 'amazon prime',\n",
       " 'a billonaire software genius hires a team of ex- military operatives']"
      ]
     },
     "execution_count": 20,
     "metadata": {},
     "output_type": "execute_result"
    }
   ],
   "source": [
    "list(series1.values())"
   ]
  },
  {
   "cell_type": "code",
   "execution_count": 21,
   "metadata": {},
   "outputs": [
    {
     "data": {
      "text/plain": [
       "dict_items([('title', 'arrow')])"
      ]
     },
     "execution_count": 21,
     "metadata": {},
     "output_type": "execute_result"
    }
   ],
   "source": [
    "series2.items()"
   ]
  },
  {
   "cell_type": "code",
   "execution_count": 22,
   "metadata": {},
   "outputs": [
    {
     "data": {
      "text/plain": [
       "{'title': 'the alloy of law',\n",
       " 'author': 'brandon sanderson',\n",
       " 'summary': 'western meets steampunk in this new mistborn series'}"
      ]
     },
     "execution_count": 22,
     "metadata": {},
     "output_type": "execute_result"
    }
   ],
   "source": [
    "books.pop('book 1')"
   ]
  },
  {
   "cell_type": "code",
   "execution_count": 23,
   "metadata": {},
   "outputs": [
    {
     "name": "stdout",
     "output_type": "stream",
     "text": [
      "book 2 tilt the band of mourning\n",
      "book 2 author brandon sandarson\n",
      "book 2 summary the third book in the mistborn series era2\n",
      "book 3 title the lost metal\n",
      "book 3 author brandon sandarson\n",
      "book 3 summary the fourth book in the mistborn seies era2\n"
     ]
    }
   ],
   "source": [
    "for k,v in books.items():\n",
    "    for k1,v1 in v.items():\n",
    "        print(k,k1,v1)"
   ]
  },
  {
   "cell_type": "code",
   "execution_count": 24,
   "metadata": {},
   "outputs": [
    {
     "name": "stdout",
     "output_type": "stream",
     "text": [
      "{'name': 'nivedita singh', 'phone': '7392018114'}\n"
     ]
    }
   ],
   "source": [
    "contacts = {}\n",
    "nm = input('enter name:')\n",
    "ph = input('enter phone number:')\n",
    "contacts['name'] = nm\n",
    "contacts['phone'] = ph\n",
    "\n",
    "print(contacts)"
   ]
  }
 ],
 "metadata": {
  "kernelspec": {
   "display_name": "Python 3",
   "language": "python",
   "name": "python3"
  },
  "language_info": {
   "codemirror_mode": {
    "name": "ipython",
    "version": 3
   },
   "file_extension": ".py",
   "mimetype": "text/x-python",
   "name": "python",
   "nbconvert_exporter": "python",
   "pygments_lexer": "ipython3",
   "version": "3.10.9"
  },
  "orig_nbformat": 4,
  "vscode": {
   "interpreter": {
    "hash": "eef730da45ae669ef9c7bde662448d80ffe2d1c897f5b9d311d71406cc7fa474"
   }
  }
 },
 "nbformat": 4,
 "nbformat_minor": 2
}
