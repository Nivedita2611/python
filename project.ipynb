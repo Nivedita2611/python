{
 "cells": [
  {
   "cell_type": "code",
   "execution_count": 10,
   "metadata": {},
   "outputs": [],
   "source": [
    "import os\n",
    "import sys\n",
    "\n",
    "def get_installed_libraries(python_path):\n",
    "    \"\"\"\n",
    "    This function takes a string representing the path to a Python installation and returns a dictionary of all the \n",
    "    libraries installed in that Python environment, where the keys are the library names and the values are the \n",
    "    corresponding version numbers.\n",
    "    \n",
    "    Args:\n",
    "    - python_path (str): The path to the Python installation to inspect.\n",
    "    \n",
    "    Returns:\n",
    "    - A dictionary where the keys are library names and the values are the corresponding version numbers.\n",
    "    \"\"\"\n",
    "    # Set the path to the Python interpreter and ensure it exists\n",
    "    interpreter_path = os.path.join(python_path)\n",
    "    if not os.path.exists(interpreter_path):\n",
    "        raise ValueError(f\"Python interpreter not found at {interpreter_path}\")\n",
    "    \n",
    "    # Use the `pip` command to get a list of installed libraries and their versions\n",
    "    command = f\"{interpreter_path} -m pip list\"\n",
    "    output = os.popen(command).read()\n",
    "    \n",
    "    # Split the output into lines and extract the library names and versions\n",
    "    library_lines = output.split('\\n')[2:-1]  # The first two and last lines are header/footer\n",
    "    libraries = {}\n",
    "    for line in library_lines:\n",
    "        name, version, *_ = line.split()  # Ignore any other information that may be present\n",
    "        libraries[name] = version\n",
    "    \n",
    "    return libraries\n"
   ]
  },
  {
   "cell_type": "code",
   "execution_count": 11,
   "metadata": {},
   "outputs": [
    {
     "name": "stdout",
     "output_type": "stream",
     "text": [
      "{'altair': '4.2.2', 'asttokens': '2.2.1', 'attrs': '22.2.0', 'backcall': '0.2.0', 'beautifulsoup4': '4.12.0', 'blinker': '1.6', 'bs4': '0.0.1', 'cachetools': '5.3.0', 'certifi': '2022.12.7', 'cffi': '1.15.1', 'charset-normalizer': '3.1.0', 'click': '8.1.3', 'colorama': '0.4.6', 'comm': '0.1.2', 'cryptography': '40.0.1', 'debugpy': '1.6.6', 'decorator': '5.1.1', 'defusedxml': '0.7.1', 'docx2txt': '0.8', 'dputils': '0.2.3', 'entrypoints': '0.4', 'executing': '1.2.0', 'fonttools': '4.39.3', 'fpdf2': '2.7.1', 'gitdb': '4.0.10', 'GitPython': '3.1.31', 'idna': '3.4', 'importlib-metadata': '6.1.0', 'ipykernel': '6.21.2', 'ipython': '8.10.0', 'jedi': '0.18.2', 'Jinja2': '3.1.2', 'jsonschema': '4.17.3', 'jupyter_client': '8.0.3', 'jupyter_core': '5.2.0', 'lxml': '4.9.2', 'markdown-it-py': '2.2.0', 'MarkupSafe': '2.1.2', 'matplotlib-inline': '0.1.6', 'mdurl': '0.1.2', 'nest-asyncio': '1.5.6', 'numpy': '1.24.2', 'packaging': '23.0', 'pandas': '1.5.3', 'parso': '0.8.3', 'pdfminer.six': '20220524', 'pickleshare': '0.7.5', 'Pillow': '9.5.0', 'pip': '23.0.1', 'platformdirs': '3.0.0', 'prompt-toolkit': '3.0.36', 'protobuf': '3.20.3', 'psutil': '5.9.4', 'pure-eval': '0.2.2', 'pyarrow': '11.0.0', 'pycparser': '2.21', 'pydeck': '0.8.0', 'Pygments': '2.14.0', 'Pympler': '1.0.1', 'pyrsistent': '0.19.3', 'python-dateutil': '2.8.2', 'python-docx': '0.8.11', 'pytz': '2023.3', 'pytz-deprecation-shim': '0.1.0.post0', 'pywin32': '305', 'pyzmq': '25.0.0', 'requests': '2.28.2', 'rich': '13.3.3', 'semver': '3.0.0', 'setuptools': '65.5.0', 'six': '1.16.0', 'smmap': '5.0.0', 'soupsieve': '2.4', 'stack-data': '0.6.2', 'streamlit': '1.20.0', 'toml': '0.10.2', 'toolz': '0.12.0', 'tornado': '6.2', 'traitlets': '5.9.0', 'typing_extensions': '4.5.0', 'tzdata': '2023.3', 'tzlocal': '4.3', 'urllib3': '1.26.15', 'validators': '0.20.0', 'watchdog': '3.0.0', 'wcwidth': '0.2.6', 'zipp': '3.15.0'}\n"
     ]
    }
   ],
   "source": [
    "python_path = r'C:\\Users\\91739\\AppData\\Local\\Programs\\Python\\Python310\\python.exe'\n",
    "libraries = get_installed_libraries(python_path)\n",
    "print(libraries)\n"
   ]
  },
  {
   "cell_type": "code",
   "execution_count": 13,
   "metadata": {},
   "outputs": [],
   "source": [
    "import subprocess\n",
    "\n",
    "def install_library(library_name):\n",
    "    \"\"\"\n",
    "    This function takes a string representing the name of a Python library and attempts to install it using pip if it \n",
    "    is not already installed.\n",
    "    \n",
    "    Args:\n",
    "    - library_name (str): The name of the library to install.\n",
    "    \n",
    "    Returns:\n",
    "    - None\n",
    "    \"\"\"\n",
    "    # Check if the library is already installed\n",
    "    try:\n",
    "        __import__(library_name)\n",
    "        print(f\"{library_name} is already installed.\")\n",
    "        return\n",
    "    except ImportError:\n",
    "        pass\n",
    "    \n",
    "    # Search for the library on PyPI\n",
    "    command = f\"pip search {library_name}\"\n",
    "    output = subprocess.check_output(command, shell=True).decode()\n",
    "    for line in output.split('\\n'):\n",
    "        if line.startswith(library_name):\n",
    "            print(f\"Found {library_name} on PyPI. Installing...\")\n",
    "            # Install the library using pip\n",
    "            install_command = f\"pip install {library_name}\"\n",
    "            subprocess.call(install_command, shell=True)\n",
    "            print(f\"{library_name} installed successfully.\")\n",
    "            return\n",
    "    \n",
    "    # If we get here, the library was not found on PyPI\n",
    "    print(f\"{library_name} not found on PyPI.\")\n"
   ]
  },
  {
   "cell_type": "code",
   "execution_count": 16,
   "metadata": {},
   "outputs": [
    {
     "name": "stdout",
     "output_type": "stream",
     "text": [
      "dputils is already installed.\n"
     ]
    }
   ],
   "source": [
    "library_name = 'dputils'  # Replace this with the name of the library you want to install\n",
    "install_library(library_name)\n"
   ]
  },
  {
   "cell_type": "code",
   "execution_count": 1,
   "metadata": {},
   "outputs": [],
   "source": [
    "import subprocess\n",
    "\n",
    "def uninstall_library(name):\n",
    "    # Use pip to search for the package on PyPI\n",
    "    try:\n",
    "        result = subprocess.run(['pip', 'search', name], capture_output=True, text=True)\n",
    "        output = result.stdout\n",
    "    except subprocess.CalledProcessError as e:\n",
    "        print(f\"An error occurred: {e}\")\n",
    "        return\n",
    "\n",
    "    # Check if the package was found\n",
    "    if name in output:\n",
    "        # Use pip to uninstall the package\n",
    "        try:\n",
    "            result = subprocess.run(['pip', 'uninstall', '-y', name], capture_output=True, text=True)\n",
    "            output = result.stdout\n",
    "        except subprocess.CalledProcessError as e:\n",
    "            print(f\"An error occurred: {e}\")\n",
    "            return\n",
    "        print(f\"The library {name} has been uninstalled.\")\n",
    "    else:\n",
    "        print(f\"The library {name} was not found on PyPI.\")"
   ]
  },
  {
   "cell_type": "code",
   "execution_count": 2,
   "metadata": {},
   "outputs": [
    {
     "name": "stdout",
     "output_type": "stream",
     "text": [
      "The library numpy was not found on PyPI.\n"
     ]
    }
   ],
   "source": [
    "uninstall_library(\"numpy\")"
   ]
  }
 ],
 "metadata": {
  "kernelspec": {
   "display_name": "Python 3",
   "language": "python",
   "name": "python3"
  },
  "language_info": {
   "codemirror_mode": {
    "name": "ipython",
    "version": 3
   },
   "file_extension": ".py",
   "mimetype": "text/x-python",
   "name": "python",
   "nbconvert_exporter": "python",
   "pygments_lexer": "ipython3",
   "version": "3.10.9"
  },
  "orig_nbformat": 4
 },
 "nbformat": 4,
 "nbformat_minor": 2
}
