{
 "cells": [
  {
   "cell_type": "code",
   "execution_count": 12,
   "metadata": {},
   "outputs": [
    {
     "name": "stdout",
     "output_type": "stream",
     "text": [
      "salary of manager = 65000.0\n"
     ]
    }
   ],
   "source": [
    "desig = input(\"enter the designation\")\n",
    "match desig:\n",
    "    case 'manager':\n",
    "        sal = 50000\n",
    "        newsal=sal + sal*.1 +sal*.2\n",
    "        print(\"salary of manager =\", newsal)\n",
    "    case 'developer':\n",
    "        sal = 40000 + 40000*.2 + 40000*.2\n",
    "        print(\"salary of developer =\",sal)\n",
    "    case 'tester':\n",
    "        sal = 30000 + 30000*.3 +30000*.2\n",
    "        print(\"salary of manager =\",sal)\n",
    "    case _:\n",
    "        print(\"you are fired\")            "
   ]
  },
  {
   "cell_type": "code",
   "execution_count": 1,
   "metadata": {},
   "outputs": [
    {
     "name": "stdout",
     "output_type": "stream",
     "text": [
      "you didn't follow the instructions\n",
      "try again\n"
     ]
    }
   ],
   "source": [
    "a = input(\"Enter a number: \")\n",
    "if a.isnumeric():\n",
    "    print(\"You followed the instructions\")\n",
    "    print(\"good job\")\n",
    "else:\n",
    "    print(\"you didn't follow the instructions\")\n",
    "    print(\"try again\")"
   ]
  },
  {
   "cell_type": "code",
   "execution_count": 4,
   "metadata": {},
   "outputs": [
    {
     "name": "stdout",
     "output_type": "stream",
     "text": [
      "so you are nivi\n"
     ]
    }
   ],
   "source": [
    "name = input('enter your name')\n",
    "match name:\n",
    "    case \"nivi\":\n",
    "        print(\"so you are nivi\")\n",
    "    case \"aryu\":\n",
    "        print(\"cool cool, you aryu\")\n",
    "    case \"nikhil\":\n",
    "        print(\"to ap ho nikhil\")\n",
    "    case _:\n",
    "        print(\"i dont care who are you\")\n"
   ]
  },
  {
   "cell_type": "code",
   "execution_count": 2,
   "metadata": {},
   "outputs": [
    {
     "name": "stdout",
     "output_type": "stream",
     "text": [
      "yes✅\n"
     ]
    }
   ],
   "source": [
    "X=5\n",
    "if X>3: \n",
    "    print(\"yes✅\")   \n",
    "else:\n",
    "    print(\"no❌\")\n"
   ]
  },
  {
   "cell_type": "code",
   "execution_count": 5,
   "metadata": {},
   "outputs": [
    {
     "name": "stdout",
     "output_type": "stream",
     "text": [
      "C\n"
     ]
    },
    {
     "data": {
      "text/plain": [
       "45"
      ]
     },
     "execution_count": 5,
     "metadata": {},
     "output_type": "execute_result"
    }
   ],
   "source": [
    "x = int(input(\"enter number=>\"))\n",
    "if x < 20:\n",
    "    print(\"E\")\n",
    "elif x >= 20 and x < 40:\n",
    "    print(\"D\")\n",
    "elif x >= 40 and x < 60:\n",
    "    print(\"C\")\n",
    "elif x >= 60 and x < 80:\n",
    "    print(\"A\")\n",
    "else:\n",
    "    print(\"invalid entry\")\n",
    "45\n"
   ]
  },
  {
   "cell_type": "code",
   "execution_count": 7,
   "metadata": {},
   "outputs": [
    {
     "name": "stdout",
     "output_type": "stream",
     "text": [
      "password invalid\n"
     ]
    }
   ],
   "source": [
    "uname = input(\"enter your username = \")\n",
    "email = input('enter your email = ')\n",
    "pwd = input(\"enter password = \")\n",
    "pwd2 = input('confrm password = ')\n",
    "if len(uname) >=4 and len(uname) < 16: \n",
    "    if '@' in email and len(email) > 6:\n",
    "        if len(pwd) >=8 and len(pwd) <=20 and pwd != uname:\n",
    "            if pwd == pwd2: \n",
    "                print(\"hurray👌👌👌👌\")\n",
    "            else:\n",
    "                print(\"passwords do not match😊\")\n",
    "        else:\n",
    "            print(\"password invalid\")\n",
    "    else:\n",
    "        print(\"email is invalid\")\n",
    "else:\n",
    "    print(\"username is invalid👌\")"
   ]
  },
  {
   "cell_type": "code",
   "execution_count": 5,
   "metadata": {},
   "outputs": [
    {
     "name": "stdout",
     "output_type": "stream",
     "text": [
      "total salary :39000.0\n"
     ]
    }
   ],
   "source": [
    "designation = input(\"enter your designation\")\n",
    "match designation: \n",
    "    case 'manager':\n",
    "        bs = 50000\n",
    "        bns = bs * .1 \n",
    "        hra = bs * .2\n",
    "        ts = bs + bns + hra \n",
    "        print(f'total salary : {ts}')\n",
    "    case 'developer':\n",
    "        bs = 40000\n",
    "        bns = bs * .1\n",
    "        hra = bs * .2 \n",
    "        ts = bs + bns + hra \n",
    "        print(f'total salary :{ts}')\n",
    "    case 'tester':\n",
    "        bs = 30000 \n",
    "        bns = bs * .1 \n",
    "        hra = bs * .2 \n",
    "        ts = bs + bns + hra \n",
    "        print(f'total salary :{ts}')\n",
    "    case _:\n",
    "        print(\"you are fired\")"
   ]
  }
 ],
 "metadata": {
  "kernelspec": {
   "display_name": "Python 3",
   "language": "python",
   "name": "python3"
  },
  "language_info": {
   "codemirror_mode": {
    "name": "ipython",
    "version": 3
   },
   "file_extension": ".py",
   "mimetype": "text/x-python",
   "name": "python",
   "nbconvert_exporter": "python",
   "pygments_lexer": "ipython3",
   "version": "3.10.9"
  },
  "orig_nbformat": 4,
  "vscode": {
   "interpreter": {
    "hash": "eef730da45ae669ef9c7bde662448d80ffe2d1c897f5b9d311d71406cc7fa474"
   }
  }
 },
 "nbformat": 4,
 "nbformat_minor": 2
}
