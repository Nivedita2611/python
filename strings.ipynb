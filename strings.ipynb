{
 "cells": [
  {
   "cell_type": "code",
   "execution_count": 1,
   "metadata": {},
   "outputs": [
    {
     "name": "stdout",
     "output_type": "stream",
     "text": [
      "welcome sir\n",
      "welcome maam\n",
      "welcome doctor\n",
      "welcome doctor\n"
     ]
    }
   ],
   "source": [
    "guests = ['mr. alex','ms. verma','dr. vijay','dr. rani']\n",
    "for name in guests:\n",
    "    if name.startswith('mr'):\n",
    "        print(\"welcome sir\")\n",
    "    elif name.startswith('ms'):\n",
    "        print(\"welcome maam\")\n",
    "    elif name.startswith('dr'):\n",
    "        print(\"welcome doctor\")\n",
    "    elif name.startswith('er'):\n",
    "        print(\"not allowed\")\n",
    "    else:\n",
    "        print(\"you are not invited\")        "
   ]
  },
  {
   "cell_type": "code",
   "execution_count": 2,
   "metadata": {},
   "outputs": [
    {
     "name": "stdout",
     "output_type": "stream",
     "text": [
      "['.git', 'app_one.py', 'basic.ipynb', 'calc.py', 'condition.ipynb', 'func.ipynb', 'func2.ipynb', 'loops.ipynb', 'nested.py', 'si.py', 'string.ipynb', 'string1.ipynb', 't1.py']\n"
     ]
    }
   ],
   "source": [
    "import os\n",
    "files = os.listdir()\n",
    "print(files)"
   ]
  },
  {
   "cell_type": "code",
   "execution_count": 9,
   "metadata": {},
   "outputs": [
    {
     "name": "stdout",
     "output_type": "stream",
     "text": [
      "basic.ipynb is jupyter notebook\n",
      "condition.ipynb is jupyter notebook\n",
      "string.ipynb is jupyter notebook\n"
     ]
    }
   ],
   "source": [
    "for file in files:\n",
    "    if file.endswith('.py'):\n",
    "        print(f'{file} is python script')\n",
    "    elif file.endswith('.ipynb'):\n",
    "        print(f'{file} is jupyter notebook')\n",
    "    elif file.endswith('.text'):\n",
    "        print(f'{file} is text file')\n",
    "    elif file.endswith('md'):\n",
    "        print(f'{file} is markdown file')\n",
    "    else:\n",
    "        print(f'{file} is unknown file/dir')"
   ]
  },
  {
   "cell_type": "code",
   "execution_count": 12,
   "metadata": {},
   "outputs": [],
   "source": [
    "data = 'as the day was coming to and end, our hero was ready to go to sleep. the end'"
   ]
  },
  {
   "cell_type": "code",
   "execution_count": 13,
   "metadata": {},
   "outputs": [
    {
     "data": {
      "text/plain": [
       "['as the day was coming to and end',\n",
       " ' our hero was ready to go to sleep. the end']"
      ]
     },
     "execution_count": 13,
     "metadata": {},
     "output_type": "execute_result"
    }
   ],
   "source": [
    "s = data.split(',')\n",
    "s"
   ]
  },
  {
   "cell_type": "code",
   "execution_count": 14,
   "metadata": {},
   "outputs": [
    {
     "data": {
      "text/plain": [
       "'abra😊ka😊dabra'"
      ]
     },
     "execution_count": 14,
     "metadata": {},
     "output_type": "execute_result"
    }
   ],
   "source": [
    "x = ['abra','ka','dabra']\n",
    "\"😊\".join (x)"
   ]
  },
  {
   "cell_type": "code",
   "execution_count": 15,
   "metadata": {},
   "outputs": [
    {
     "data": {
      "text/plain": [
       "'as the day was coming to and end, our villan was ready to go to sleep. the end'"
      ]
     },
     "execution_count": 15,
     "metadata": {},
     "output_type": "execute_result"
    }
   ],
   "source": [
    "data.replace('hero','villan')"
   ]
  },
  {
   "cell_type": "code",
   "execution_count": 16,
   "metadata": {},
   "outputs": [
    {
     "data": {
      "text/plain": [
       "'as the day was coming to and start, our villan was ready to go to sleep. to be continued...'"
      ]
     },
     "execution_count": 16,
     "metadata": {},
     "output_type": "execute_result"
    }
   ],
   "source": [
    "data.replace('hero','villan').replace('end','start',1).replace('the end','to be continued...')"
   ]
  },
  {
   "cell_type": "code",
   "execution_count": 17,
   "metadata": {},
   "outputs": [
    {
     "data": {
      "text/plain": [
       "'aaaas the daaaay waaaas coming to aaaand end, our hero waaaas reaaaady to go to sleep. the end'"
      ]
     },
     "execution_count": 17,
     "metadata": {},
     "output_type": "execute_result"
    }
   ],
   "source": [
    "data.replace('a','aaaa')"
   ]
  },
  {
   "cell_type": "code",
   "execution_count": 18,
   "metadata": {},
   "outputs": [
    {
     "name": "stdout",
     "output_type": "stream",
     "text": [
      "nivedita       singh       chandel\n",
      "34\n",
      "after cleaning\n",
      "nivedita       singh       chandel\n",
      "34\n"
     ]
    }
   ],
   "source": [
    "name = input(\"enter your name:\")\n",
    "print(name)\n",
    "print(len(name))\n",
    "name = name.strip()\n",
    "print('after cleaning')\n",
    "print( name)\n",
    "print(len(name))"
   ]
  },
  {
   "cell_type": "code",
   "execution_count": 19,
   "metadata": {},
   "outputs": [
    {
     "data": {
      "text/plain": [
       "22"
      ]
     },
     "execution_count": 19,
     "metadata": {},
     "output_type": "execute_result"
    }
   ],
   "source": [
    "data.find('t',13) # start from 13th index"
   ]
  },
  {
   "cell_type": "code",
   "execution_count": 20,
   "metadata": {},
   "outputs": [
    {
     "data": {
      "text/plain": [
       "-1"
      ]
     },
     "execution_count": 20,
     "metadata": {},
     "output_type": "execute_result"
    }
   ],
   "source": [
    "data.find('z') # -1 means not found"
   ]
  },
  {
   "cell_type": "code",
   "execution_count": 21,
   "metadata": {},
   "outputs": [
    {
     "data": {
      "text/plain": [
       "0"
      ]
     },
     "execution_count": 21,
     "metadata": {},
     "output_type": "execute_result"
    }
   ],
   "source": [
    "data.count('that')"
   ]
  },
  {
   "cell_type": "code",
   "execution_count": 22,
   "metadata": {},
   "outputs": [
    {
     "data": {
      "text/plain": [
       "0"
      ]
     },
     "execution_count": 22,
     "metadata": {},
     "output_type": "execute_result"
    }
   ],
   "source": [
    "data.count('this')"
   ]
  }
 ],
 "metadata": {
  "kernelspec": {
   "display_name": "Python 3",
   "language": "python",
   "name": "python3"
  },
  "language_info": {
   "codemirror_mode": {
    "name": "ipython",
    "version": 3
   },
   "file_extension": ".py",
   "mimetype": "text/x-python",
   "name": "python",
   "nbconvert_exporter": "python",
   "pygments_lexer": "ipython3",
   "version": "3.10.9"
  },
  "orig_nbformat": 4,
  "vscode": {
   "interpreter": {
    "hash": "eef730da45ae669ef9c7bde662448d80ffe2d1c897f5b9d311d71406cc7fa474"
   }
  }
 },
 "nbformat": 4,
 "nbformat_minor": 2
}
